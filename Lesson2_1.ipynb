{
  "nbformat": 4,
  "nbformat_minor": 0,
  "metadata": {
    "colab": {
      "provenance": [],
      "authorship_tag": "ABX9TyPzMfRB/YGwuFqzZRY5Hhiv",
      "include_colab_link": true
    },
    "kernelspec": {
      "name": "python3",
      "display_name": "Python 3"
    },
    "language_info": {
      "name": "python"
    }
  },
  "cells": [
    {
      "cell_type": "markdown",
      "metadata": {
        "id": "view-in-github",
        "colab_type": "text"
      },
      "source": [
        "<a href=\"https://colab.research.google.com/github/tty79199/python_analysis/blob/main/Lesson2_1.ipynb\" target=\"_parent\"><img src=\"https://colab.research.google.com/assets/colab-badge.svg\" alt=\"Open In Colab\"/></a>"
      ]
    },
    {
      "cell_type": "code",
      "execution_count": 2,
      "metadata": {
        "colab": {
          "base_uri": "https://localhost:8080/",
          "height": 36
        },
        "id": "ewVlYDHj72Ck",
        "outputId": "8c674f98-0b2a-4a82-e18f-a9ae055e78cf"
      },
      "outputs": [
        {
          "output_type": "execute_result",
          "data": {
            "text/plain": [
              "'這也是字串'"
            ],
            "application/vnd.google.colaboratory.intrinsic+json": {
              "type": "string"
            }
          },
          "metadata": {},
          "execution_count": 2
        }
      ],
      "source": [
        "\"這是字串\"\n",
        "'這也是字串'"
      ]
    },
    {
      "cell_type": "markdown",
      "source": [
        "### \"這是字串\"\n",
        "###'這也是字串'"
      ],
      "metadata": {
        "id": "CgJOG2BM8s5I"
      }
    },
    {
      "cell_type": "code",
      "source": [
        "print('這是第一 個數值' + str(10) +\"\\n這是第二個數值\" +str(20.0) )\n"
      ],
      "metadata": {
        "colab": {
          "base_uri": "https://localhost:8080/"
        },
        "id": "BmgGScyA98gY",
        "outputId": "07dec57d-babb-461f-8833-cebf8248cbc0"
      },
      "execution_count": 4,
      "outputs": [
        {
          "output_type": "stream",
          "name": "stdout",
          "text": [
            "這是第一 個數值10\n",
            "這是第二個數值20.0\n"
          ]
        }
      ]
    },
    {
      "cell_type": "markdown",
      "source": [
        "###字串插補"
      ],
      "metadata": {
        "id": "3YqJUXDJDOVR"
      }
    },
    {
      "cell_type": "code",
      "source": [
        "print(f\"這是第一個數值:{10}\\n這是第二個數值:{20.0}\")"
      ],
      "metadata": {
        "colab": {
          "base_uri": "https://localhost:8080/"
        },
        "id": "ZvruwxV4Dj_p",
        "outputId": "84511aee-5130-4b02-e3d1-5f2c208db858"
      },
      "execution_count": 6,
      "outputs": [
        {
          "output_type": "stream",
          "name": "stdout",
          "text": [
            "這是第一個數值:10\n",
            "這是第二個數值:20.0\n"
          ]
        }
      ]
    }
  ]
}